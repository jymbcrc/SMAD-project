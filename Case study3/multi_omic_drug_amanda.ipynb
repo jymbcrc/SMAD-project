{
 "cells": [
  {
   "cell_type": "markdown",
   "id": "4872ce03-f8ca-4108-bc31-f058a1597cce",
   "metadata": {},
   "source": [
    "### ML and feature importance analysis to predict metabolite from proteomic data"
   ]
  },
  {
   "cell_type": "code",
   "execution_count": null,
   "id": "57dd7262-bc16-49e6-80c5-a752fd15e881",
   "metadata": {},
   "outputs": [],
   "source": [
    "import pandas as pd\n",
    "import matplotlib.pyplot as plt\n",
    "from sklearn.model_selection import GroupShuffleSplit\n",
    "from sklearn.ensemble import RandomForestRegressor\n",
    "from sklearn.metrics import r2_score\n",
    "import shap"
   ]
  },
  {
   "cell_type": "markdown",
   "id": "18676110-dca3-4080-a3d7-7e9daedf4786",
   "metadata": {},
   "source": [
    "#### read in data"
   ]
  },
  {
   "cell_type": "code",
   "execution_count": null,
   "id": "fbc00499-6ac1-45dd-ad75-fe933d617127",
   "metadata": {},
   "outputs": [],
   "source": [
    "metab = pd.read_csv(r'C:\\Users\\momenzadeha\\OneDrive - Cedars-Sinai Health System\\yuming_drug_metabolite\\meta_dupli.csv', index_col=0)\n",
    "prot = pd.read_csv(r'C:\\Users\\momenzadeha\\OneDrive - Cedars-Sinai Health System\\yuming_drug_metabolite\\pro_dupli.csv')"
   ]
  },
  {
   "cell_type": "markdown",
   "id": "3ce571e0-e608-41fe-bff9-42d84d48c891",
   "metadata": {},
   "source": [
    "#### prepare metabolite and protein data"
   ]
  },
  {
   "cell_type": "code",
   "execution_count": null,
   "id": "1b82b6b2-3aaf-4055-8291-51817736e96f",
   "metadata": {},
   "outputs": [],
   "source": [
    "metab = metab.loc[:, ~metab.columns.str.contains('DMSO|DFO', case=False)]\n",
    "metab = metab.T\n",
    "prot = prot.loc[:, ~prot.columns.str.contains('DMSO|DFO', case=False)]\n",
    "prot.rename(columns = {'Unnamed: 0': 'Protein'}, inplace=True)\n",
    "prot['Protein'] = prot['Protein'].str.split('|').str[-1]\n",
    "prot=prot.set_index('Protein')\n",
    "prot=prot.T"
   ]
  },
  {
   "cell_type": "code",
   "execution_count": null,
   "id": "2b124167-10a1-41c5-8ccd-f73be997e312",
   "metadata": {},
   "outputs": [],
   "source": [
    "#define model X (input) and y (output)\n",
    "y = metab\n",
    "X = prot\n",
    "y = y.reindex(X.index)"
   ]
  },
  {
   "cell_type": "code",
   "execution_count": null,
   "id": "a4513dd9-c02b-416b-9581-992e0b880b89",
   "metadata": {},
   "outputs": [],
   "source": [
    "# Split into training and test sets\n",
    "def train_test_split_by_drug(X, y, test_size=0.2, random_state=0):\n",
    "    drug_base_names = X.index.str.extract(r'([a-zA-Z]+)')[0]\n",
    "    gss = GroupShuffleSplit(n_splits=1, test_size=test_size, random_state=random_state)\n",
    "    for train_idx, test_idx in gss.split(X, groups=drug_base_names):\n",
    "        X_train, X_test = X.iloc[train_idx], X.iloc[test_idx]\n",
    "        y_train, y_test = y.iloc[train_idx], y.iloc[test_idx]\n",
    "    return X_train, X_test, y_train, y_test\n",
    "\n",
    "X_train, X_test, y_train, y_test = train_test_split_by_drug(X, y, test_size=0.2, random_state=0)"
   ]
  },
  {
   "cell_type": "markdown",
   "id": "67dd04a2-2bc5-474e-b151-f628bd94f113",
   "metadata": {},
   "source": [
    "#### train random forest regressor to predict each metabolite"
   ]
  },
  {
   "cell_type": "code",
   "execution_count": null,
   "id": "f5e4324e-214c-4869-b33d-5be59c4fe4b3",
   "metadata": {},
   "outputs": [],
   "source": [
    "# Initialize lists to store R² scores and metabolite names, and a dictionary for models\n",
    "r2_scores = []\n",
    "metabolite_names = y.columns\n",
    "models = {}\n",
    "\n",
    "# Loop through each metabolite, train a separate model, and store it in the dictionary\n",
    "for metabolite in metabolite_names:\n",
    "    # Set the target for the current metabolite\n",
    "    y_train_metab = y_train[metabolite]\n",
    "    y_test_metab = y_test[metabolite]\n",
    "    \n",
    "    # Initialize and train the model\n",
    "    model = RandomForestRegressor(random_state=42)\n",
    "    model.fit(X_train, y_train_metab)\n",
    "    \n",
    "    # Make predictions and calculate the R² score\n",
    "    y_pred = model.predict(X_test)\n",
    "    r2 = r2_score(y_test_metab, y_pred)\n",
    "    r2_scores.append(r2)\n",
    "    \n",
    "    # Store the model in the dictionary\n",
    "    models[metabolite] = model\n",
    "\n",
    "# Create a DataFrame to store the R² scores for each metabolite\n",
    "r2_df = pd.DataFrame({'Metabolite': metabolite_names, 'R2_Score': r2_scores})\n",
    "\n",
    "# Plot a histogram of the R² scores\n",
    "plt.figure(figsize=(10, 6))\n",
    "plt.hist(r2_scores, bins=20, edgecolor='k')\n",
    "plt.xlabel('R² Score')\n",
    "plt.ylabel('Frequency')\n",
    "plt.title('Distribution of R² Scores for Each Metabolite')\n",
    "plt.show()"
   ]
  },
  {
   "cell_type": "code",
   "execution_count": null,
   "id": "5ad4dc8f-c50f-4f70-87ff-bd345e84b850",
   "metadata": {},
   "outputs": [],
   "source": [
    "r2_df[r2_df['R2_Score']>0.4]"
   ]
  },
  {
   "cell_type": "code",
   "execution_count": null,
   "id": "049b91a4-83e9-4216-9ac6-32cd6b7364fb",
   "metadata": {},
   "outputs": [],
   "source": [
    "phenyl_model=models['phenylalanine']\n",
    "spermidine_model=models['spermidine']"
   ]
  },
  {
   "cell_type": "markdown",
   "id": "6536e66f-b437-4cbd-a047-d1640610b730",
   "metadata": {},
   "source": [
    "#### SHAP analysis"
   ]
  },
  {
   "cell_type": "code",
   "execution_count": null,
   "id": "935fed41-8891-4fde-ab83-cf61c1f4ffdc",
   "metadata": {},
   "outputs": [],
   "source": [
    "def shap_analysis(model, X_test, feature_names):\n",
    "    # Initialize the SHAP explainer\n",
    "    explainer = shap.KernelExplainer(model.predict, X_test)\n",
    "    # Calculate SHAP values for the test set\n",
    "    shap_values = explainer.shap_values(X_test)\n",
    "    shap_df = pd.DataFrame(shap_values, columns=feature_names)\n",
    "    shap.summary_plot(shap_values, X_test, feature_names=feature_names, plot_type=\"bar\")\n",
    "    return shap_df\n",
    "\n",
    "#beeswarm plot is used to show the distribution of SHAP values for all features across the entire test set\n",
    "def shap_beeswarm_plot(model, X_test, output_path=\"beeswarm_plot.png\"):\n",
    "    # Check if X_test is a DataFrame\n",
    "    if not isinstance(X_test, pd.DataFrame):\n",
    "        raise ValueError(\"X_test should be a DataFrame with feature names as columns.\")\n",
    "    # Use TreeExplainer for efficiency with tree-based models\n",
    "    explainer = shap.TreeExplainer(model)\n",
    "    # Calculate SHAP values for all instances in the test set\n",
    "    shap_values = explainer.shap_values(X_test)\n",
    "    # Create the beeswarm plot\n",
    "    plt.figure(figsize=(10, 6))\n",
    "    shap.summary_plot(shap_values, X_test, plot_type=\"dot\", show=False)\n",
    "    # Customize the plot appearance (optional)\n",
    "    plt.title(\"SHAP Beeswarm Plot\")\n",
    "    plt.xlabel(\"SHAP Value (Impact on Model Output)\")\n",
    "    # Save the plot to a file\n",
    "    plt.savefig(output_path, format=\"png\", bbox_inches=\"tight\")\n",
    "    plt.close()  # Close the plot to avoid display in notebooks"
   ]
  },
  {
   "cell_type": "markdown",
   "id": "9c2ca415-3bb6-48bf-8d4e-d94f9f838378",
   "metadata": {},
   "source": [
    "##### phenylalanine"
   ]
  },
  {
   "cell_type": "code",
   "execution_count": null,
   "id": "be7314c5-5151-445e-9d5c-3e8a90fa422e",
   "metadata": {
    "tags": []
   },
   "outputs": [],
   "source": [
    "feature_names = X_test.columns  # Use the column names as feature names"
   ]
  },
  {
   "cell_type": "code",
   "execution_count": null,
   "id": "762fe7c4-987b-49b4-965d-a170fbe53678",
   "metadata": {},
   "outputs": [],
   "source": [
    "shap_df = shap_analysis(phenyl_model, X_test, feature_names)\n",
    "shap_beeswarm_plot(phenyl_model, X_test)"
   ]
  },
  {
   "cell_type": "markdown",
   "id": "4bd2551c-7bd5-438b-9e25-9d634c7c98d5",
   "metadata": {},
   "source": [
    "##### spermidine"
   ]
  },
  {
   "cell_type": "code",
   "execution_count": null,
   "id": "1f6585a9-f51e-44de-8808-09a0d98cf4bf",
   "metadata": {},
   "outputs": [],
   "source": [
    "shap_beeswarm_plot(spermidine_model, X_test)"
   ]
  }
 ],
 "metadata": {
  "kernelspec": {
   "display_name": "base",
   "language": "python",
   "name": "base"
  },
  "language_info": {
   "codemirror_mode": {
    "name": "ipython",
    "version": 3
   },
   "file_extension": ".py",
   "mimetype": "text/x-python",
   "name": "python",
   "nbconvert_exporter": "python",
   "pygments_lexer": "ipython3",
   "version": "3.9.12"
  }
 },
 "nbformat": 4,
 "nbformat_minor": 5
}
