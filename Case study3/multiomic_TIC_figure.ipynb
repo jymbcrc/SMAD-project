{
 "cells": [
  {
   "cell_type": "code",
   "execution_count": 1,
   "id": "32833608-835e-47ef-ad00-d650d692b6d9",
   "metadata": {},
   "outputs": [
    {
     "name": "stderr",
     "output_type": "stream",
     "text": [
      "C:\\Users\\jymbc\\Anaconda3\\lib\\site-packages\\pandas\\core\\computation\\expressions.py:21: UserWarning: Pandas requires version '2.8.4' or newer of 'numexpr' (version '2.7.3' currently installed).\n",
      "  from pandas.core.computation.check import NUMEXPR_INSTALLED\n",
      "C:\\Users\\jymbc\\Anaconda3\\lib\\site-packages\\pandas\\core\\arrays\\masked.py:60: UserWarning: Pandas requires version '1.3.6' or newer of 'bottleneck' (version '1.3.2' currently installed).\n",
      "  from pandas.core import (\n"
     ]
    }
   ],
   "source": [
    "import pyteomics\n",
    "import lxml\n",
    "from pyteomics import mzml, mass\n",
    "from pyteomics import mzxml\n",
    "import numpy as np\n",
    "import matplotlib.pyplot as plt\n",
    "import os\n",
    "import pandas as pd\n",
    "import re\n",
    "from scipy.stats import pearsonr, spearmanr, linregress\n",
    "import seaborn as sns\n",
    "import matplotlib"
   ]
  },
  {
   "cell_type": "code",
   "execution_count": null,
   "id": "1e403be1-0484-43f0-93d5-7821522dcdfe",
   "metadata": {},
   "outputs": [],
   "source": []
  },
  {
   "cell_type": "code",
   "execution_count": 15,
   "id": "d01be8b8-1074-4675-816a-ddd2ad7dea2d",
   "metadata": {},
   "outputs": [],
   "source": [
    "import pyteomics\n",
    "\n",
    "\n",
    "fn = 'F:/drug_dataset/20240515/mzxml/A1.mzXML'\n",
    "tmp_scan = pyteomics.mzxml.read(fn, use_index=True)"
   ]
  },
  {
   "cell_type": "code",
   "execution_count": 26,
   "id": "54691b29-3330-49a5-9b52-d8cb82029283",
   "metadata": {},
   "outputs": [
    {
     "data": {
      "text/plain": [
       "2802636.25"
      ]
     },
     "execution_count": 26,
     "metadata": {},
     "output_type": "execute_result"
    }
   ],
   "source": [
    "tmp_scan.get_by_index(1186)['totIonCurrent']"
   ]
  },
  {
   "cell_type": "code",
   "execution_count": null,
   "id": "bb5a8be4-d85c-4716-9924-b039f9175d8e",
   "metadata": {},
   "outputs": [],
   "source": []
  },
  {
   "cell_type": "code",
   "execution_count": 35,
   "id": "27891782-e20f-42c3-88b0-d7de749e31ab",
   "metadata": {},
   "outputs": [],
   "source": [
    "def getTIC_mzxml(fn = 'F:/drug_dataset/20240515/mzxml/A1.mzXML', scanrange = range(0,811)):\n",
    "    tmp_scan = pyteomics.mzxml.read(fn, use_index=True)\n",
    "    tic=[]\n",
    "    timelist=[]\n",
    "    for i in scanrange:\n",
    "        tic.append(tmp_scan.get_by_index(i)['totIonCurrent'])\n",
    "        timelist.append(float(tmp_scan.get_by_index(i)['retentionTime']))\n",
    "    return([tic,timelist])"
   ]
  },
  {
   "cell_type": "code",
   "execution_count": null,
   "id": "f58a9859-ec75-42f4-b20e-8b19a92223d4",
   "metadata": {},
   "outputs": [],
   "source": []
  },
  {
   "cell_type": "code",
   "execution_count": null,
   "id": "898aba62-4b62-44e6-95a1-d563fef9a917",
   "metadata": {},
   "outputs": [],
   "source": []
  },
  {
   "cell_type": "code",
   "execution_count": null,
   "id": "a693d611-c037-4fc4-a12b-cb4c53dbae61",
   "metadata": {},
   "outputs": [],
   "source": []
  },
  {
   "cell_type": "code",
   "execution_count": 36,
   "id": "720b09e6-70e2-4a7f-92d4-f7ed2d96574e",
   "metadata": {},
   "outputs": [],
   "source": [
    "tic_pro = getTIC_mzxml(fn = 'F:/drug_dataset/20240515/mzxml/A1.mzXML', scanrange = range(0,811))[0]\n",
    "\n",
    "timelist_pro = getTIC_mzxml(fn = 'F:/drug_dataset/20240515/mzxml/A1.mzXML', scanrange = range(0,811))[1]\n",
    "\n",
    "tic_meta = getTIC_mzxml(fn = 'F:/drug_dataset/20240515/mzxml/A1.mzXML', scanrange = range(811,1187))[0]\n",
    "\n",
    "timelist_meta = getTIC_mzxml(fn = 'F:/drug_dataset/20240515/mzxml/A1.mzXML', scanrange = range(811,1187))[1]"
   ]
  },
  {
   "cell_type": "code",
   "execution_count": 31,
   "id": "451f7c33-12e4-4a06-94fc-b2ef718b1a12",
   "metadata": {},
   "outputs": [],
   "source": [
    "# tmp_scan.get_by_index(0)"
   ]
  },
  {
   "cell_type": "code",
   "execution_count": 5,
   "id": "071ba59a-9989-4ee2-892e-66caf630dbbb",
   "metadata": {},
   "outputs": [],
   "source": [
    "figure_save_path = r'F:\\SMAD PROJECT\\new_druganalysis\\multi\\figures'\n"
   ]
  },
  {
   "cell_type": "code",
   "execution_count": null,
   "id": "30ef8983-8d95-4e9e-8059-361ad640cc07",
   "metadata": {},
   "outputs": [],
   "source": [
    "list_time=np.array(timelist_NP5)-timelist_NP5[0]\n",
    "inten_list=normalize(tar_list=tic_NP5)"
   ]
  },
  {
   "cell_type": "code",
   "execution_count": null,
   "id": "7170624a-3dd1-41f4-8c75-62c3953a414c",
   "metadata": {},
   "outputs": [],
   "source": []
  },
  {
   "cell_type": "code",
   "execution_count": 49,
   "id": "dc71bcea-db27-47a6-986e-5028280ebc22",
   "metadata": {},
   "outputs": [
    {
     "data": {
      "image/png": "[encoded data removed]",
      "text/plain": [
       "<Figure size 1080x244.8 with 1 Axes>"
      ]
     },
     "metadata": {
      "needs_background": "light"
     },
     "output_type": "display_data"
    }
   ],
   "source": [
    "import matplotlib\n",
    "import matplotlib.pyplot as plt\n",
    "savename=\"case_study3_TIC\"\n",
    "matplotlib.rcParams['font.family'] = \"Arial\"\n",
    "plt.rcParams['figure.figsize']=(15,3.4)\n",
    "\n",
    "ax = plt.subplot()\n",
    "TK = plt.gca() #获取边框\n",
    "\n",
    "TK.spines['right'].set_visible(False)\n",
    "TK.spines['top'].set_visible(False)\n",
    "TK.spines['left'].set_visible(False)\n",
    "\n",
    "#plt.vlines(time,[0],tic,linewidth=1,linestyles =\"solid\", colors =\"k\")\n",
    "plt.vlines(np.array(timelist_meta)-timelist_pro[0], [0],tic_meta,linewidth=1,linestyles =\"solid\", colors =\"#2B76CB\")\n",
    "plt.vlines(np.array(timelist_pro)-timelist_pro[0],[0],tic_pro,linewidth=1,linestyles =\"solid\", colors =\"#DA4F48\")\n",
    "#plt.vlines(list_by2,[0]*len(list_by2),k2,linewidth=1,linestyles =\"solid\", colors =\"b\")\n",
    "#plt.vlines(list_by3,[0]*len(list_by3),k3,linewidth=1,linestyles =\"solid\", colors =\"purple\")\n",
    "#plt.xlabel('m/z',fontsize=25)\n",
    "#plt.ylabel('Intensity',fontsize=25)\n",
    "plt.xticks(fontsize=22)\n",
    "#plt.yticks(fontsize=22)\n",
    "plt.xlim(-0.3,5)\n",
    "#plt.xticks(np.arange(0, 24, 4))\n",
    "#plt.yticks(np.arange(0, 7e7, 2e7))\n",
    "plt.ylim(-1.4e6, 8e7)\n",
    "\n",
    "plt.ticklabel_format(style='sci', axis='y', scilimits=(0,0))\n",
    "#plt.tick_params(top='off', bottom='off', left='off', right='off', labelleft='off', labelbottom='on')\n",
    "#plt.figure(figsize=(11,4))\n",
    "# vlines(x, ymin, ymax, colors, linestyles)\n",
    "\n",
    "ax.set_yticks([])\n",
    "plt.savefig(\"{}/{}.svg\".format(figure_save_path, savename), dpi=600, bbox_inches=\"tight\")\n",
    "plt.show() "
   ]
  },
  {
   "cell_type": "code",
   "execution_count": 57,
   "id": "69008f30-a6c9-4f64-a852-d35e5e72f3e3",
   "metadata": {},
   "outputs": [
    {
     "data": {
      "image/png": "[encoded data removed]",
      "text/plain": [
       "<Figure size 432x288 with 1 Axes>"
      ]
     },
     "metadata": {
      "needs_background": "light"
     },
     "output_type": "display_data"
    }
   ],
   "source": [
    "import matplotlib.pyplot as plt\n",
    "\n",
    "# Data\n",
    "metabolites = [\"metabolite1\", \"metabolite2\"]\n",
    "intensities = [100, 150]\n",
    "colors = ['#2020DF', '#DF2020']\n",
    "\n",
    "# Plot\n",
    "plt.figure(figsize=(6, 4))\n",
    "plt.bar(metabolites, intensities, color=colors)\n",
    "plt.title(\"Metabolome quantification\", fontname='Arial', fontsize=14)\n",
    "plt.ylabel(\"intensity\", fontname='Arial', fontsize=16)\n",
    "plt.xticks(fontname='Arial', fontsize=16)\n",
    "plt.yticks(fontname='Arial', fontsize=16)\n",
    "plt.tight_layout()\n",
    "plt.show()"
   ]
  },
  {
   "cell_type": "code",
   "execution_count": null,
   "id": "e61c1fd7-4b9b-4b90-8cad-82e9314cec2d",
   "metadata": {},
   "outputs": [],
   "source": []
  },
  {
   "cell_type": "code",
   "execution_count": null,
   "id": "20c51e80-e7c6-4046-8d1d-aa4a747323e6",
   "metadata": {},
   "outputs": [],
   "source": []
  },
  {
   "cell_type": "code",
   "execution_count": null,
   "id": "8ca5f8db-dc72-4d44-ade0-c81d17eb71a2",
   "metadata": {},
   "outputs": [],
   "source": []
  }
 ],
 "metadata": {
  "kernelspec": {
   "display_name": "Python 3 (ipykernel)",
   "language": "python",
   "name": "python3"
  },
  "language_info": {
   "codemirror_mode": {
    "name": "ipython",
    "version": 3
   },
   "file_extension": ".py",
   "mimetype": "text/x-python",
   "name": "python",
   "nbconvert_exporter": "python",
   "pygments_lexer": "ipython3",
   "version": "3.9.7"
  }
 },
 "nbformat": 4,
 "nbformat_minor": 5
}
